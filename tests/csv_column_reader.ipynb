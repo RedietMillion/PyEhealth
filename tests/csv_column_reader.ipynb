{
 "cells": [
  {
   "cell_type": "code",
   "execution_count": 248,
   "id": "a084bf21",
   "metadata": {},
   "outputs": [],
   "source": [
    "import csv\n",
    "import pyreadstat as ps\n",
    "import pandas as pd \n",
    "import ijson\n",
    "import json\n",
    "from csv import reader\n",
    "#import pcraster as pcr "
   ]
  },
  {
   "cell_type": "code",
   "execution_count": 10,
   "id": "7d7fb5c3",
   "metadata": {},
   "outputs": [
    {
     "ename": "ModuleNotFoundError",
     "evalue": "No module named 'PyEhealth'",
     "output_type": "error",
     "traceback": [
      "\u001b[1;31m---------------------------------------------------------------------------\u001b[0m",
      "\u001b[1;31mModuleNotFoundError\u001b[0m                       Traceback (most recent call last)",
      "\u001b[1;32m~\\AppData\\Local\\Temp/ipykernel_15276/3406357367.py\u001b[0m in \u001b[0;36m<module>\u001b[1;34m\u001b[0m\n\u001b[1;32m----> 1\u001b[1;33m \u001b[1;32mfrom\u001b[0m \u001b[0mPyEhealth\u001b[0m\u001b[1;33m.\u001b[0m\u001b[0mpyreaders\u001b[0m \u001b[1;32mimport\u001b[0m \u001b[0mlist_columns\u001b[0m\u001b[1;33m\u001b[0m\u001b[1;33m\u001b[0m\u001b[0m\n\u001b[0m",
      "\u001b[1;31mModuleNotFoundError\u001b[0m: No module named 'PyEhealth'"
     ]
    }
   ],
   "source": [
    "from PyEhealth.pyreaders import list_columns"
   ]
  },
  {
   "cell_type": "markdown",
   "id": "f33ee094",
   "metadata": {},
   "source": [
    "### Function Zone "
   ]
  },
  {
   "cell_type": "code",
   "execution_count": 222,
   "id": "0e25e1c2",
   "metadata": {},
   "outputs": [],
   "source": [
    "def list_columns(filename):\n",
    "    \n",
    "    if filename.endswith('.csv') or filename.endswith('.CSV') :\n",
    "        with open(filename, \"r\") as f:\n",
    "            reader = csv.reader(f)\n",
    "            col_csv = next(reader)\n",
    "        return col_csv\n",
    "    \n",
    "    elif filename.endswith('.DTA') or filename.endswith('.dta'):\n",
    "        col_stata, meta = ps.read_sas7bdat(filename, metadataonly=True)\n",
    "        return list(col_stata)\n",
    "    \n",
    "    elif filename.endswith('.sav') or filename.endswith('.SAV'):\n",
    "        col_sav, meta = ps.read_sas7bdat(filename, metadataonly=True)\n",
    "        return list(col_sav)\n",
    "    else:\n",
    "        return \"Your file format type doesn't included to the package yet\""
   ]
  },
  {
   "cell_type": "code",
   "execution_count": null,
   "id": "a6964049",
   "metadata": {},
   "outputs": [],
   "source": []
  },
  {
   "cell_type": "code",
   "execution_count": 247,
   "id": "9c3513e7",
   "metadata": {},
   "outputs": [],
   "source": [
    "def load_data(filename, columns_list= None, the_first = None, the_last= None):\n",
    "    \n",
    "    if filename.endswith('.csv') or filename.endswith('.CSV') :\n",
    "        if columns_list:\n",
    "            if the_first:\n",
    "                return pd.read_csv(filename, usecols = columns_list).head(the_first)\n",
    "            if the_last : \n",
    "                return pd.read_csv(filename, usecols = columns_list).tail(the_last)\n",
    "            return pd.read_csv(filename, usecols = columns_list)\n",
    "        else:\n",
    "            if the_first:\n",
    "                return pd.read_csv(filename).head(the_first)\n",
    "            if the_last : \n",
    "                return pd.read_csv(filename).tail(the_last)\n",
    "            return pd.read_csv(filename)\n",
    "    \n",
    "    elif filename.endswith('.DTA') or filename.endswith('.dta'):\n",
    "        if columns_list:\n",
    "            if the_first:\n",
    "                df,meta = ps.read_dta(filename, usecols = columns_list)\n",
    "                return df.head(the_first)\n",
    "            if the_last : \n",
    "                df,meta = ps.read_dta(filename, usecols = columns_list)\n",
    "                return df.tail(the_last)\n",
    "            df,meta = ps.read_dta(filename, usecols = columns_list)\n",
    "            return df\n",
    "        else:\n",
    "            if the_first:\n",
    "                df,meta = ps.read_dta(filename)\n",
    "                return df.head(the_first)\n",
    "            if the_last : \n",
    "                df,meta = ps.read_dta(filename)\n",
    "                return df.tail(the_last)\n",
    "            \n",
    "            df,meta = ps.read_dta(filename)\n",
    "            return df\n",
    "        \n",
    "    elif filename.endswith('.SAV') or filename.endswith('.sav'):\n",
    "        if columns_list:\n",
    "            if the_first:\n",
    "                df,meta = ps.read_sav(filename, usecols = columns_list)\n",
    "                return df.head(the_first)\n",
    "            if the_last : \n",
    "                df,meta = ps.read_sav(filename, usecols = columns_list)\n",
    "                return df.tail(the_last)\n",
    "            df,meta = ps.read_sav(filename, usecols = columns_list)\n",
    "            return df\n",
    "        else:\n",
    "            if the_first:\n",
    "                df,meta = ps.read_sav(filename)\n",
    "                return df.head(the_first)\n",
    "            if the_last : \n",
    "                df,meta = ps.read_sav(filename)\n",
    "                return df.tail(the_last)\n",
    "            \n",
    "            df,meta = ps.read_sav(filename)\n",
    "            return df\n",
    "    \n",
    "        \n",
    "            "
   ]
  },
  {
   "cell_type": "markdown",
   "id": "3d31efea",
   "metadata": {},
   "source": [
    "### Test Zone"
   ]
  },
  {
   "cell_type": "code",
   "execution_count": 227,
   "id": "95cc2238",
   "metadata": {},
   "outputs": [],
   "source": [
    "file_dat = \"F:/AAIT&EPHI/EPHI/HDS/DHS Data/ET_2016_DHS_11082019_632_141211/ETBR71SV/ETBR71DT/ETBR71FL.DTA\"\n",
    "file_csv = \"F:/AAIT&EPHI/EPHI/HDS/DHS Data/ET_2016_DHS_11082019_632_141211/ETBR71SV/BR.csv\"\n",
    "file_json = \"F:/AAIT&EPHI/EPHI/HDS/DHS Data/ET_2016_DHS_11082019_632_141211/ETBR71SV/health.json\"\n",
    "f_json = 'neo.json'\n",
    "file_sav = \"F:/AAIT&EPHI/EPHI/HDS/DHS Data/ET_2016_DHS_11082019_632_141211/ETBR71SV/BR.sav\"\n",
    "file_spss = \"F:/AAIT&EPHI/EPHI/HDS/DHS Data/ET_2016_DHS_11082019_632_141211/ETBR71SV/ETBR71FL.SPS\""
   ]
  },
  {
   "cell_type": "code",
   "execution_count": null,
   "id": "befc3d22",
   "metadata": {},
   "outputs": [],
   "source": []
  },
  {
   "cell_type": "code",
   "execution_count": 249,
   "id": "ce863abd",
   "metadata": {},
   "outputs": [
    {
     "name": "stdout",
     "output_type": "stream",
     "text": [
      "['ï»¿CASEID', 'BIDX', 'V000', 'V001', 'V002', 'V003', 'V004', 'V005', 'V006', 'V007', 'V008', 'V008A', 'V009', 'V010', 'V011', 'V012', 'V013', 'V014', 'V015', 'V016', 'V017', 'V018', 'V019', 'V019A', 'V020', 'V021', 'V022', 'V023', 'V024', 'V025', 'V026', 'V027', 'V028', 'V029', 'V030', 'V031', 'V032', 'V034', 'V040', 'V042', 'V044', 'V045A', 'V045B', 'V045C', 'V046', 'V101', 'V102', 'V103', 'V104', 'V105', 'V105A', 'V106', 'V107', 'V113', 'V115', 'V116', 'V119', 'V120', 'V121', 'V122', 'V123', 'V124', 'V125', 'V127', 'V128', 'V129', 'V130', 'V131', 'V133', 'V134', 'V135', 'V136', 'V137', 'V138', 'V139', 'V140', 'V141', 'V149', 'V150', 'V151', 'V152', 'V153', 'AWFACTT', 'AWFACTU', 'AWFACTR', 'AWFACTE', 'AWFACTW', 'V155', 'V156', 'V157', 'V158', 'V159', 'V160', 'V161', 'V166', 'V167', 'V168', 'V169A', 'V169B', 'V170', 'V171A', 'V171B', 'V190', 'V191', 'V190A', 'V191A', 'ML101', 'V201', 'V202', 'V203', 'V204', 'V205', 'V206', 'V207', 'V208', 'V209', 'V210', 'V211', 'V212', 'V213', 'V214', 'V215', 'V216', 'V217', 'V218', 'V219', 'V220', 'V221', 'V222', 'V223', 'V224', 'V225', 'V226', 'V227', 'V228', 'V229', 'V230', 'V231', 'V232', 'V233', 'V234', 'V235', 'V237', 'V238', 'V239', 'V240', 'V241', 'V242', 'V243', 'V244', 'V310', 'V311', 'V312', 'V313', 'V315', 'V316', 'V317', 'V318', 'V319', 'V320', 'V321', 'V322', 'V323', 'V323A', 'V325A', 'V326', 'V327', 'V337', 'V359', 'V360', 'V361', 'V362', 'V363', 'V364', 'V367', 'V372', 'V372A', 'V375A', 'V376', 'V376A', 'V379', 'V380', 'V384A', 'V384B', 'V384C', 'V384D', 'V393', 'V393A', 'V394', 'V395', 'V3A00A', 'V3A00B', 'V3A00C', 'V3A00D', 'V3A00E', 'V3A00F', 'V3A00G', 'V3A00H', 'V3A00I', 'V3A00J', 'V3A00K', 'V3A00L', 'V3A00M', 'V3A00N', 'V3A00O', 'V3A00P', 'V3A00Q', 'V3A00R', 'V3A00S', 'V3A00T', 'V3A00U', 'V3A00V', 'V3A00W', 'V3A00X', 'V3A00Y', 'V3A00Z', 'V3A01', 'V3A02', 'V3A03', 'V3A04', 'V3A05', 'V3A06', 'V3A07', 'V3A08A', 'V3A08B', 'V3A08C', 'V3A08D', 'V3A08E', 'V3A08F', 'V3A08G', 'V3A08H', 'V3A08I', 'V3A08J', 'V3A08K', 'V3A08L', 'V3A08M', 'V3A08N', 'V3A08O', 'V3A08P', 'V3A08Q', 'V3A08R', 'V3A08S', 'V3A08T', 'V3A08U', 'V3A08V', 'V3A08W', 'V3A08AA', 'V3A08AB', 'V3A08AC', 'V3A08AD', 'V3A08X', 'V3A08Z', 'V3A09A', 'V3A09B', 'V401', 'V404', 'V405', 'V406', 'V407', 'V408', 'V409', 'V409A', 'V410', 'V410A', 'V411', 'V411A', 'V412', 'V412A', 'V412B', 'V412C', 'V413', 'V413A', 'V413B', 'V413C', 'V413D', 'V414A', 'V414B', 'V414C', 'V414D', 'V414E', 'V414F', 'V414G', 'V414H', 'V414I', 'V414J', 'V414K', 'V414L', 'V414M', 'V414N', 'V414O', 'V414P', 'V414Q', 'V414R', 'V414S', 'V414T', 'V414U', 'V414V', 'V414W', 'V415', 'V416', 'V417', 'V418', 'V418A', 'V419', 'V420', 'V421', 'V426', 'V437', 'V438', 'V439', 'V440', 'V441', 'V442', 'V443', 'V444', 'V444A', 'V445', 'V446', 'V447', 'V447A', 'V452A', 'V452B', 'V452C', 'V453', 'V454', 'V455', 'V456', 'V457', 'V458', 'V459', 'V460', 'V461', 'V462', 'V463A', 'V463B', 'V463C', 'V463D', 'V463E', 'V463F', 'V463G', 'V463H', 'V463I', 'V463J', 'V463K', 'V463L', 'V463X', 'V463Z', 'V463AA', 'V463AB', 'V464', 'V465', 'V466', 'V467A', 'V467B', 'V467C', 'V467D', 'V467E', 'V467F', 'V467G', 'V467H', 'V467I', 'V467J', 'V467K', 'V467L', 'V467M', 'V468', 'V469E', 'V469F', 'V469X', 'V471A', 'V471B', 'V471C', 'V471D', 'V471E', 'V471F', 'V471G', 'V472A', 'V472B', 'V472C', 'V472D', 'V472E', 'V472F', 'V472G', 'V472H', 'V472I', 'V472J', 'V472K', 'V472L', 'V472M', 'V472N', 'V472O', 'V472P', 'V472Q', 'V472R', 'V472S', 'V472T', 'V472U', 'V473A', 'V473B', 'V474', 'V474A', 'V474B', 'V474C', 'V474D', 'V474E', 'V474F', 'V474G', 'V474H', 'V474I', 'V474J', 'V474X', 'V474Z', 'V475', 'V476', 'V477', 'V478', 'V479', 'V480', 'V481', 'V481A', 'V481B', 'V481C', 'V481D', 'V481E', 'V481F', 'V481G', 'V481H', 'V481X', 'V482A', 'V482B', 'V482C', 'V501', 'V502', 'V503', 'V504', 'V505', 'V506', 'V507', 'V508', 'V509', 'V510', 'V511', 'V512', 'V513', 'V525', 'V527', 'V528', 'V529', 'V530', 'V531', 'V532', 'V535', 'V536', 'V537', 'V538', 'V539', 'V540', 'V541', 'V602', 'V603', 'V604', 'V605', 'V613', 'V614', 'V616', 'V621', 'V623', 'V624', 'V625', 'V626', 'V625A', 'V626A', 'V627', 'V628', 'V629', 'V631', 'V632', 'V632A', 'V633A', 'V633B', 'V633C', 'V633D', 'V633E', 'V633F', 'V633G', 'V634', 'V701', 'V702', 'V704', 'V704A', 'V705', 'V714', 'V714A', 'V715', 'V716', 'V717', 'V719', 'V721', 'V729', 'V730', 'V731', 'V732', 'V739', 'V740', 'V741', 'V743A', 'V743B', 'V743C', 'V743D', 'V743E', 'V743F', 'V744A', 'V744B', 'V744C', 'V744D', 'V744E', 'V745A', 'V745B', 'V745C', 'V745D', 'V746', 'BORD', 'B0', 'B1', 'B2', 'B3', 'B4', 'B5', 'B6', 'B7', 'B8', 'B9', 'B10', 'B11', 'B12', 'B13', 'B15', 'B16', 'B17', 'B18', 'B19', 'B20', 'MIDX', 'M1', 'M1A', 'M1B', 'M1C', 'M1D', 'M1E', 'M2A', 'M2B', 'M2C', 'M2D', 'M2E', 'M2F', 'M2G', 'M2H', 'M2I', 'M2J', 'M2K', 'M2L', 'M2M', 'M2N', 'M3A', 'M3B', 'M3C', 'M3D', 'M3E', 'M3F', 'M3G', 'M3H', 'M3I', 'M3J', 'M3K', 'M3L', 'M3M', 'M3N', 'M4', 'M5', 'M6', 'M7', 'M8', 'M9', 'M10', 'M11', 'M13', 'M14', 'M15', 'M17', 'M17A', 'M18', 'M19', 'M19A', 'M27', 'M28', 'M29', 'M34', 'M35', 'M36', 'M38', 'M39A', 'M39', 'M42A', 'M42B', 'M42C', 'M42D', 'M42E', 'M43', 'M44', 'M45', 'M46', 'M47', 'M48', 'M49A', 'M49B', 'M49C', 'M49D', 'M49E', 'M49F', 'M49G', 'M49X', 'M49Z', 'M49Y', 'M54', 'M55', 'M55A', 'M55B', 'M55C', 'M55D', 'M55E', 'M55F', 'M55G', 'M55H', 'M55I', 'M55J', 'M55K', 'M55L', 'M55M', 'M55N', 'M55O', 'M55X', 'M55Z', 'M57A', 'M57B', 'M57C', 'M57D', 'M57E', 'M57F', 'M57G', 'M57H', 'M57I', 'M57J', 'M57K', 'M57L', 'M57M', 'M57N', 'M57O', 'M57P', 'M57Q', 'M57R', 'M57S', 'M57T', 'M57U', 'M57V', 'M57X', 'M60', 'M61', 'M62', 'M63', 'M64', 'M65A', 'M65B', 'M65C', 'M65D', 'M65E', 'M65F', 'M65G', 'M65H', 'M65I', 'M65J', 'M65K', 'M65L', 'M65X', 'M66', 'M67', 'M68', 'M69', 'M70', 'M71', 'M72', 'M73', 'M74', 'M75', 'M76', 'M77', 'M78A', 'M78B', 'M78C', 'M78D', 'M78E', 'M78F', 'M78G', 'M78H', 'M78I', 'M78J', 'HIDX', 'H1', 'H1A', 'H2', 'H2D', 'H2M', 'H2Y', 'H3', 'H3D', 'H3M', 'H3Y', 'H4', 'H4D', 'H4M', 'H4Y', 'H5', 'H5D', 'H5M', 'H5Y', 'H6', 'H6D', 'H6M', 'H6Y', 'H7', 'H7D', 'H7M', 'H7Y', 'H8', 'H8D', 'H8M', 'H8Y', 'H9', 'H9D', 'H9M', 'H9Y', 'H9A', 'H9AD', 'H9AM', 'H9AY', 'H0', 'H0D', 'H0M', 'H0Y', 'H10', 'H33', 'H33D', 'H33M', 'H33Y', 'H35', 'H36A', 'H36B', 'H36C', 'H36D', 'H36E', 'H36F', 'H40', 'H40D', 'H40M', 'H40Y', 'H41A', 'H41B', 'H50', 'H50D', 'H50M', 'H50Y', 'H51', 'H51D', 'H51M', 'H51Y', 'H52', 'H52D', 'H52M', 'H52Y', 'H53', 'H53D', 'H53M', 'H53Y', 'H54', 'H54D', 'H54M', 'H54Y', 'H55', 'H55D', 'H55M', 'H55Y', 'H56', 'H56D', 'H56M', 'H56Y', 'H57', 'H57D', 'H57M', 'H57Y', 'H58', 'H58D', 'H58M', 'H58Y', 'H59', 'H59D', 'H59M', 'H59Y', 'H60', 'H60D', 'H60M', 'H60Y', 'H61', 'H61D', 'H61M', 'H61Y', 'H62', 'H62D', 'H62M', 'H62Y', 'H63', 'H63D', 'H63M', 'H63Y', 'H64', 'H64D', 'H64M', 'H64Y', 'H65', 'H65D', 'H65M', 'H65Y', 'H66', 'H66D', 'H66M', 'H66Y', 'H80A', 'H80B', 'H80C', 'H80D', 'H80E', 'H80F', 'H80G', 'HIDXA', 'H11', 'H11B', 'H12A', 'H12B', 'H12C', 'H12D', 'H12E', 'H12F', 'H12G', 'H12H', 'H12I', 'H12J', 'H12K', 'H12L', 'H12M', 'H12N', 'H12O', 'H12P', 'H12Q', 'H12R', 'H12S', 'H12T', 'H12U', 'H12V', 'H12W', 'H12X', 'H12Y', 'H12Z', 'H13', 'H13B', 'H14', 'H15', 'H15A', 'H15B', 'H15C', 'H15D', 'H15E', 'H15F', 'H15G', 'H15H', 'H15I', 'H15J', 'H15K', 'H15L', 'H15M', 'H20', 'H21A', 'H21', 'H22', 'H31', 'H31B', 'H31C', 'H31D', 'H31E', 'H32A', 'H32B', 'H32C', 'H32D', 'H32E', 'H32F', 'H32G', 'H32H', 'H32I', 'H32J', 'H32K', 'H32L', 'H32M', 'H32N', 'H32O', 'H32P', 'H32Q', 'H32R', 'H32S', 'H32T', 'H32U', 'H32V', 'H32W', 'H32X', 'H32Y', 'H32Z', 'H34', 'H37A', 'H37B', 'H37C', 'H37D', 'H37DA', 'H37E', 'H37AA', 'H37AB', 'H37F', 'H37G', 'H37H', 'H37I', 'H37J', 'H37K', 'H37L', 'H37M', 'H37N', 'H37O', 'H37P', 'H37X', 'H37Y', 'H37Z', 'H38', 'H39', 'H42', 'H43', 'H44A', 'H44B', 'H44C', 'H45', 'H46A', 'H46B', 'H47', 'H100', 'HWIDX', 'HW1', 'HW2', 'HW3', 'HW4', 'HW5', 'HW6', 'HW7', 'HW8', 'HW9', 'HW10', 'HW11', 'HW12', 'HW13', 'HW15', 'HW16', 'HW17', 'HW18', 'HW19', 'HW51', 'HW52', 'HW53', 'HW55', 'HW56', 'HW57', 'HW58', 'HW70', 'HW71', 'HW72', 'HW73', 'IDXML', 'ML0', 'ML1', 'ML2', 'ML11', 'ML12', 'ML13A', 'ML13B', 'ML13C', 'ML13D', 'ML13DA', 'ML13E', 'ML13AA', 'ML13AB', 'ML13F', 'ML13G', 'ML13H', 'ML13I', 'ML13J', 'ML13K', 'ML13L', 'ML13M', 'ML13N', 'ML13O', 'ML13P', 'ML13X', 'ML13Y', 'ML13Z', 'ML14A', 'ML14B', 'ML14Y', 'ML14Z', 'ML15A', 'ML15B', 'ML15C', 'ML16A', 'ML16B', 'ML16C', 'ML17A', 'ML17B', 'ML17C', 'ML18A', 'ML18B', 'ML18C', 'ML19A', 'ML19B', 'ML19C', 'ML19D', 'ML19E', 'ML19F', 'ML19X', 'ML19Y', 'ML19Z', 'ML20A', 'ML20B', 'ML20C', 'ML21A', 'ML21B', 'ML21C', 'ML22A', 'ML22B', 'ML22C', 'ML23A', 'ML23B', 'ML23C', 'ML24C', 'ML25A', 'G100', 'G101', 'G102', 'G103', 'G104', 'G105', 'G106', 'G107', 'G108', 'G109', 'G110', 'G111', 'G112', 'G113', 'G114', 'G115', 'G116', 'G117A', 'G117B', 'G117C', 'G117D', 'G117E', 'G117F', 'G117G', 'G117H', 'G117I', 'G117J', 'G117X', 'G117Y', 'G118', 'G119', 'GIDX', 'G121', 'G122', 'G123', 'G124', 'SVIOLEN', 'SFGM', 'SINTD', 'SINTM', 'S104', 'S104A', 'S105M', 'S107', 'S108', 'S109', 'S326', 'S472', 'S473', 'S474', 'S475', 'S476', 'S477', 'S478', 'S479A', 'S479B', 'S479C', 'S479D', 'S479E', 'S479F', 'S479G', 'S479H', 'S479X', 'S480', 'S481', 'S482', 'S483', 'S711A', 'S711B', 'S711CC', 'S711D', 'S815D', 'S815E', 'S815G', 'S924A', 'S924B', 'S1056', 'S1058', 'S1107A', 'S1107B', 'S1107C', 'S1107D', 'S1107E', 'S1420A', 'S1501', 'S1502', 'S231M', 'S238M', 'S308M', 'S309M', 'S710M', 'IDX94', 'S412A', 'S412BA', 'S412BB', 'S412BC', 'S412BD', 'S412BE', 'S412BF', 'S412BG', 'S412BX', 'S412C', 'S412DA', 'S412DB', 'S412DC', 'S412DD', 'S412DE', 'S412DF', 'S412DX', 'S413D', 'S414A', 'S433A', 'S433B', 'S434A', 'S434BA', 'S434BB', 'S434BC', 'S434BD', 'S434BX', 'S437A', 'S437BA', 'S437BB', 'S437BC', 'S437BD', 'S437BX', 'S440A', 'S440BA', 'S440BB', 'S440BC', 'S440BD', 'S440BE', 'S440BF', 'S440BG', 'S440BH', 'S440BX', 'S440C', 'IDX95', 'SH1', 'S1507A', 'S1507B', 'S1507C', 'S1507D', 'S1508', 'S1508B', 'SD1508B', 'SM1508B', 'SY1508B', 'S1508P0', 'SD1508P0', 'SM1508P0', 'SY1508P0', 'S1508P1', 'SD1508P1', 'SM1508P1', 'SY1508P1', 'S1508P2', 'SD1508P2', 'SM1508P2', 'SY1508P2', 'S1508P3', 'SD1508P3', 'SM1508P3', 'SY1508P3', 'S1508D1', 'SD1508D1', 'SM1508D1', 'SY1508D1', 'S1508D2', 'SD1508D2', 'SM1508D2', 'SY1508D2', 'S1508D3', 'SD1508D3', 'SM1508D3', 'SY1508D3', 'S1508M1', 'SD1508M1', 'SM1508M1', 'SY1508M1', 'S1508VA', 'SD1508VA', 'SM1508VA', 'SY1508VA', 'S1508N1', 'SD1508N1', 'SM1508N1', 'SY1508N1', 'S1508N2', 'SD1508N2', 'SM1508N2', 'SY1508N2', 'S1508N3', 'SD1508N3', 'SM1508N3', 'SY1508N3', 'S1508R1', 'SD1508R1', 'SM1508R1', 'SY1508R1', 'S1508R2', 'SD1508R2', 'SM1508R2', 'SY1508R2', 'SD508BA', 'SM508BA', 'SD508PA', 'SM508PA', 'SD508PB', 'SM508PB', 'SD508PC', 'SM508PC', 'SD508PD', 'SM508PD', 'SD508DA', 'SM508DA', 'SD508DB', 'SM508DB', 'SD508DC', 'SM508DC', 'SD508NA', 'SM508NA', 'SD508NB', 'SM508NB', 'SD508NC', 'SM508NC', 'SD508RA', 'SM508RA', 'SD508RB', 'SM508RB', 'SD508MA', 'SM508MA', 'SD508VA', 'SM508VA']\n"
     ]
    }
   ],
   "source": [
    "print(list_column(file_csv))\n",
    "#col = [\"V000\",\"CASEID\"]\n",
    "#load_data(file_sav, col, the_first = 3 )\n",
    "#x, y = pyreadstat.read_sas7bdat(file_dat)\n",
    "#col_stata, meta = pyreadstat.read_sas7bdat(file_sav)"
   ]
  }
 ],
 "metadata": {
  "kernelspec": {
   "display_name": "Python 3 (ipykernel)",
   "language": "python",
   "name": "python3"
  },
  "language_info": {
   "codemirror_mode": {
    "name": "ipython",
    "version": 3
   },
   "file_extension": ".py",
   "mimetype": "text/x-python",
   "name": "python",
   "nbconvert_exporter": "python",
   "pygments_lexer": "ipython3",
   "version": "3.10.1"
  }
 },
 "nbformat": 4,
 "nbformat_minor": 5
}
